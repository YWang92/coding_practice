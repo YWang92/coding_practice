{
 "cells": [
  {
   "cell_type": "code",
   "execution_count": 1,
   "metadata": {},
   "outputs": [],
   "source": [
    "import pandas as pd\n",
    "import numpy as np"
   ]
  },
  {
   "cell_type": "code",
   "execution_count": 2,
   "metadata": {},
   "outputs": [],
   "source": [
    "def fibonacci_number(n):\n",
    "    a, b = 0, 1\n",
    "    fibo_numbers = [a, b]\n",
    "    for _ in range(n):\n",
    "        a, b = b, a+b\n",
    "        fibo_numbers.append(b)\n",
    "\n",
    "    return fibo_numbers[n]\n",
    "\n",
    "\n",
    "def last_digit_of_fibonacci_number(n):\n",
    "    assert 0 <= n <= 10 ** 7\n",
    "\n",
    "    if n <= 1:\n",
    "        return n\n",
    "\n",
    "    else:\n",
    "        x = str(fibonacci_number(n))[-1]\n",
    "        x = int(x)\n",
    "\n",
    "    return x\n",
    "\n",
    "\n",
    "\n",
    "\n"
   ]
  },
  {
   "cell_type": "code",
   "execution_count": 11,
   "metadata": {},
   "outputs": [
    {
     "data": {
      "text/plain": [
       "5"
      ]
     },
     "execution_count": 11,
     "metadata": {},
     "output_type": "execute_result"
    }
   ],
   "source": [
    "last_digit_of_fibonacci_number(70)"
   ]
  },
  {
   "cell_type": "code",
   "execution_count": 14,
   "metadata": {},
   "outputs": [
    {
     "data": {
      "text/plain": [
       "(2, 0)"
      ]
     },
     "execution_count": 14,
     "metadata": {},
     "output_type": "execute_result"
    }
   ],
   "source": [
    "a, b= 10, 22\n",
    "\n",
    "a, b = b%10, a%10\n",
    "\n",
    "a, b"
   ]
  },
  {
   "cell_type": "code",
   "execution_count": 37,
   "metadata": {},
   "outputs": [
    {
     "data": {
      "text/plain": [
       "2"
      ]
     },
     "execution_count": 37,
     "metadata": {},
     "output_type": "execute_result"
    }
   ],
   "source": [
    "def last_digit_of_fibonacci_number(n):\n",
    "    assert 0 <= n <= 10 ** 7\n",
    "\n",
    "    a, b = 0, 1\n",
    "    fibo_numbers_last_digit = [a%10, b%10]\n",
    "    for _ in range(n):\n",
    "        a, b = b%10, (a+b)%10\n",
    "        fibo_numbers_last_digit.append(b)\n",
    "\n",
    "    return fibo_numbers_last_digit[n]\n",
    "\n",
    "\n",
    "last_digit_of_fibonacci_number(3)"
   ]
  },
  {
   "cell_type": "code",
   "execution_count": null,
   "metadata": {},
   "outputs": [],
   "source": [
    "0 1 2 3 4 5 6 7  8 9 10 11\n",
    "0 1 1 2 3 5 8 13 21"
   ]
  },
  {
   "cell_type": "code",
   "execution_count": 39,
   "metadata": {},
   "outputs": [
    {
     "name": "stdout",
     "output_type": "stream",
     "text": [
      "0\n",
      "1\n",
      "2\n",
      "3\n",
      "4\n",
      "5\n",
      "6\n",
      "7\n",
      "8\n",
      "9\n"
     ]
    }
   ],
   "source": [
    "for i in range(10):\n",
    "    print(i)"
   ]
  },
  {
   "cell_type": "code",
   "execution_count": 40,
   "metadata": {},
   "outputs": [
    {
     "data": {
      "text/plain": [
       "0"
      ]
     },
     "execution_count": 40,
     "metadata": {},
     "output_type": "execute_result"
    }
   ],
   "source": [
    "100%20"
   ]
  },
  {
   "cell_type": "code",
   "execution_count": 41,
   "metadata": {},
   "outputs": [
    {
     "data": {
      "text/plain": [
       "4"
      ]
     },
     "execution_count": 41,
     "metadata": {},
     "output_type": "execute_result"
    }
   ],
   "source": [
    "max(3, 4)"
   ]
  },
  {
   "cell_type": "code",
   "execution_count": 42,
   "metadata": {},
   "outputs": [
    {
     "data": {
      "text/plain": [
       "1"
      ]
     },
     "execution_count": 42,
     "metadata": {},
     "output_type": "execute_result"
    }
   ],
   "source": [
    "100%3"
   ]
  },
  {
   "cell_type": "code",
   "execution_count": 6,
   "metadata": {},
   "outputs": [
    {
     "name": "stdout",
     "output_type": "stream",
     "text": [
      "[0, 1, 1]\n"
     ]
    },
    {
     "data": {
      "text/plain": [
       "0"
      ]
     },
     "execution_count": 6,
     "metadata": {},
     "output_type": "execute_result"
    }
   ],
   "source": [
    "def fibonacci_number_again(n, m):\n",
    "    assert 0 <= n <= 10 ** 18 and 2 <= m <= 10 ** 3\n",
    "\n",
    "    a, b = 0, 1\n",
    "    fibo_numbers_last_digit = [a % m, b % m]\n",
    "    while True:\n",
    "        a, b = b , a+b\n",
    "        if a % m == 0 and b % m == 1:\n",
    "            fibo_numbers_last_digit.pop()\n",
    "            break\n",
    "        else:\n",
    "            fibo_numbers_last_digit.append(b % m)\n",
    "\n",
    "    print(fibo_numbers_last_digit)\n",
    "    period = len(fibo_numbers_last_digit)\n",
    "    return fibo_numbers_last_digit[n % period]\n",
    "\n",
    "fibonacci_number_again(12, 2)"
   ]
  },
  {
   "cell_type": "code",
   "execution_count": 7,
   "metadata": {},
   "outputs": [
    {
     "data": {
      "text/plain": [
       "5"
      ]
     },
     "execution_count": 7,
     "metadata": {},
     "output_type": "execute_result"
    }
   ],
   "source": [
    "11 // 2"
   ]
  },
  {
   "cell_type": "code",
   "execution_count": 16,
   "metadata": {},
   "outputs": [
    {
     "data": {
      "text/plain": [
       "0"
      ]
     },
     "execution_count": 16,
     "metadata": {},
     "output_type": "execute_result"
    }
   ],
   "source": [
    "def fibonacci_number_again(n, m):\n",
    "    assert 0 <= n <= 10 ** 18 and 2 <= m <= 10 ** 3\n",
    "\n",
    "    a, b = 0, 1\n",
    "    fibo_numbers = [a, b]\n",
    "    while True:\n",
    "        a, b = b, a+b\n",
    "        if a % m == 0 and b % m == 1:\n",
    "            fibo_numbers.pop()\n",
    "            break\n",
    "        else:\n",
    "            fibo_numbers.append(b)\n",
    "\n",
    "    return fibo_numbers\n",
    "\n",
    "\n",
    "def last_digit_of_the_sum_of_fibonacci_numbers(n):\n",
    "    assert 0 <= n <= 10 ** 18\n",
    "\n",
    "    period_numbers = fibonacci_number_again(n, 10)\n",
    "    len_period = len(period_numbers)\n",
    "\n",
    "    a = n // len_period\n",
    "    b = n % len_period\n",
    "\n",
    "    solution = a * sum(period_numbers) + sum(period_numbers[:b + 1])\n",
    "    solution = solution % 10\n",
    "\n",
    "    return solution\n",
    "\n",
    "\n",
    "last_digit_of_the_sum_of_fibonacci_numbers(6)"
   ]
  },
  {
   "cell_type": "code",
   "execution_count": 15,
   "metadata": {},
   "outputs": [
    {
     "data": {
      "text/plain": [
       "[0, 1, 1, 2, 3, 5]"
      ]
     },
     "execution_count": 15,
     "metadata": {},
     "output_type": "execute_result"
    }
   ],
   "source": [
    "fibonacci_number_again(100, 10)[:6]"
   ]
  },
  {
   "cell_type": "code",
   "execution_count": 14,
   "metadata": {},
   "outputs": [
    {
     "data": {
      "text/plain": [
       "60"
      ]
     },
     "execution_count": 14,
     "metadata": {},
     "output_type": "execute_result"
    }
   ],
   "source": [
    "len(fibonacci_number_again(100, 10))"
   ]
  },
  {
   "cell_type": "code",
   "execution_count": null,
   "metadata": {},
   "outputs": [],
   "source": []
  }
 ],
 "metadata": {
  "interpreter": {
   "hash": "916dbcbb3f70747c44a77c7bcd40155683ae19c65e1c03b4aa3499c5328201f1"
  },
  "kernelspec": {
   "display_name": "Python 3.8.10 64-bit",
   "language": "python",
   "name": "python3"
  },
  "language_info": {
   "codemirror_mode": {
    "name": "ipython",
    "version": 3
   },
   "file_extension": ".py",
   "mimetype": "text/x-python",
   "name": "python",
   "nbconvert_exporter": "python",
   "pygments_lexer": "ipython3",
   "version": "3.8.10"
  },
  "orig_nbformat": 4
 },
 "nbformat": 4,
 "nbformat_minor": 2
}
