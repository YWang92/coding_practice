{
 "cells": [
  {
   "cell_type": "code",
   "execution_count": 87,
   "metadata": {},
   "outputs": [
    {
     "data": {
      "text/plain": [
       "[Interval(start=1, index=0), Interval(start=0, index=1)]"
      ]
     },
     "execution_count": 87,
     "metadata": {},
     "output_type": "execute_result"
    }
   ],
   "source": [
    "from collections import namedtuple\n",
    "\n",
    "Interval = collections.namedtuple(\"Interval\", ['start', \"index\"])\n",
    "\n",
    "x = [Interval(i, j) for i,j in zip(reversed(range(2)), range(2))]\n",
    "x"
   ]
  },
  {
   "cell_type": "code",
   "execution_count": 99,
   "metadata": {},
   "outputs": [
    {
     "data": {
      "text/plain": [
       "(7, 6)"
      ]
     },
     "execution_count": 99,
     "metadata": {},
     "output_type": "execute_result"
    }
   ],
   "source": [
    "from bisect import bisect_left, bisect_right\n",
    "x = [1, 2, 3, 4, 5, 6, 7, 8]\n",
    "bisect_right(x, 7), bisect_left(x, 7)\n"
   ]
  },
  {
   "cell_type": "code",
   "execution_count": 102,
   "metadata": {},
   "outputs": [],
   "source": [
    "Event = collections.namedtuple(\"Event\", ['coordinate', 'type', \"index\"])\n",
    "\n",
    "def fast_count_segments(starts, ends, points):\n",
    "    cnt = [0] * len(points)\n",
    "\n",
    "    events = []\n",
    "    for i in range(len(starts)):\n",
    "        events.append(Event(starts[i], 'left', i))\n",
    "        events.append(Event(ends[i], 'right', i))\n",
    "    for i in range(len(points)):\n",
    "        events.append(Event(points[i], 'point', i))\n",
    "    \n",
    "    print(\"unsorted events\", events)\n",
    "    events = sorted(events)\n",
    "    print(\"sorted events\", events)\n",
    "    number_of_segments = 0\n",
    "    for event in events:\n",
    "        if event.type == 'left':\n",
    "            number_of_segments += 1\n",
    "        elif event.type == 'right':\n",
    "            number_of_segments -= 1\n",
    "        elif event.type == 'point':\n",
    "            cnt[event.index] = number_of_segments\n",
    "\n",
    "    return cnt"
   ]
  },
  {
   "cell_type": "code",
   "execution_count": 104,
   "metadata": {},
   "outputs": [
    {
     "name": "stdout",
     "output_type": "stream",
     "text": [
      "unsorted events [Event(coordinate=0, type='left', index=0), Event(coordinate=5, type='right', index=0), Event(coordinate=7, type='left', index=1), Event(coordinate=10, type='right', index=1), Event(coordinate=1, type='point', index=0), Event(coordinate=6, type='point', index=1)]\n",
      "sorted events [Event(coordinate=0, type='left', index=0), Event(coordinate=1, type='point', index=0), Event(coordinate=5, type='right', index=0), Event(coordinate=6, type='point', index=1), Event(coordinate=7, type='left', index=1), Event(coordinate=10, type='right', index=1)]\n"
     ]
    },
    {
     "data": {
      "text/plain": [
       "[1, 0]"
      ]
     },
     "execution_count": 104,
     "metadata": {},
     "output_type": "execute_result"
    }
   ],
   "source": [
    "starts = [0, 7]\n",
    "ends = [5, 10]\n",
    "points = [1, 6]\n",
    "\n",
    "fast_count_segments(starts, ends, points)\n",
    "\n"
   ]
  },
  {
   "cell_type": "code",
   "execution_count": 26,
   "metadata": {},
   "outputs": [
    {
     "name": "stdout",
     "output_type": "stream",
     "text": [
      "1\n",
      "2\n"
     ]
    }
   ],
   "source": [
    "2 3\n",
    "0 5\n",
    "7 10\n",
    "1 6 11"
   ]
  },
  {
   "cell_type": "code",
   "execution_count": 31,
   "metadata": {},
   "outputs": [
    {
     "data": {
      "text/plain": [
       "4"
      ]
     },
     "execution_count": 31,
     "metadata": {},
     "output_type": "execute_result"
    }
   ],
   "source": [
    "9//2"
   ]
  },
  {
   "cell_type": "code",
   "execution_count": 66,
   "metadata": {},
   "outputs": [],
   "source": [
    "def get_number_of_inversions(a, left, right):\n",
    "    number_of_inversions = 0\n",
    "    if right - left <= 1:\n",
    "        return number_of_inversions\n",
    "    ave = (left + right) // 2\n",
    "    number_of_inversions += get_number_of_inversions(a, left, ave)\n",
    "    number_of_inversions += get_number_of_inversions(a, ave, right)\n",
    "    #write your code here\n",
    "    a1, a2 = a[left:ave], a[ave:right]\n",
    "    b = []\n",
    "    while a1 and a2:\n",
    "        if a1[0] > a2[0]:\n",
    "            b.append(a1[0])\n",
    "            a1.pop(0)\n",
    "            number_of_inversions += len(a2)\n",
    "        else:\n",
    "            b.append(a2[0])\n",
    "            a2.pop(0)\n",
    "    b += (a1 + a2)\n",
    "    a[left:right] = b\n",
    "    return number_of_inversions"
   ]
  },
  {
   "cell_type": "code",
   "execution_count": 70,
   "metadata": {},
   "outputs": [],
   "source": [
    "\n",
    "import collections\n",
    "Interval = collections.namedtuple(\"Interval\", ['start', 'end'])\n"
   ]
  },
  {
   "cell_type": "code",
   "execution_count": 73,
   "metadata": {},
   "outputs": [],
   "source": [
    "x = [_ for _ in range(3) if _ == 2]\n"
   ]
  },
  {
   "cell_type": "code",
   "execution_count": 74,
   "metadata": {},
   "outputs": [
    {
     "data": {
      "text/plain": [
       "[2]"
      ]
     },
     "execution_count": 74,
     "metadata": {},
     "output_type": "execute_result"
    }
   ],
   "source": [
    "x"
   ]
  },
  {
   "cell_type": "code",
   "execution_count": 67,
   "metadata": {},
   "outputs": [
    {
     "data": {
      "text/plain": [
       "7"
      ]
     },
     "execution_count": 67,
     "metadata": {},
     "output_type": "execute_result"
    }
   ],
   "source": [
    "a = [2, 3, 9, 2, 9, 1]\n",
    "n = len(a)\n",
    "\n",
    "get_number_of_inversions(a, 0, n)"
   ]
  },
  {
   "cell_type": "code",
   "execution_count": null,
   "metadata": {},
   "outputs": [],
   "source": [
    "def merge_sort(a, left, right):\n",
    "    number_of_inversions = 0\n",
    "    if right - left <= 1:\n",
    "        return number_of_inversions\n",
    "    \n",
    "    ave = (left + right) // 2\n",
    "    a, num_left = merge_sort(a, left, ave)\n",
    "\n"
   ]
  }
 ],
 "metadata": {
  "interpreter": {
   "hash": "916dbcbb3f70747c44a77c7bcd40155683ae19c65e1c03b4aa3499c5328201f1"
  },
  "kernelspec": {
   "display_name": "Python 3.8.10 64-bit",
   "language": "python",
   "name": "python3"
  },
  "language_info": {
   "codemirror_mode": {
    "name": "ipython",
    "version": 3
   },
   "file_extension": ".py",
   "mimetype": "text/x-python",
   "name": "python",
   "nbconvert_exporter": "python",
   "pygments_lexer": "ipython3",
   "version": "3.8.10"
  },
  "orig_nbformat": 4
 },
 "nbformat": 4,
 "nbformat_minor": 2
}
